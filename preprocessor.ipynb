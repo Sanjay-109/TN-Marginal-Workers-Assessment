{
 "cells": [
  {
   "cell_type": "code",
   "execution_count": 11,
   "metadata": {},
   "outputs": [],
   "source": [
    "import pandas as pd\n",
    "\n",
    "# Load the data into a Pandas DataFrame\n",
    "data = pd.read_csv(\"data.csv\")  # Replace \"your_data.csv\" with your actual data file\n",
    "columns_to_drop = [\"Table Code\", \"State Code\", \"District Code\"]\n",
    "data.drop(columns=columns_to_drop, inplace=True)\n",
    "# Remove rows with \"Total\" in the \"Age Group\" column\n",
    "data = data[data[\"Age group\"] != \"Total\"]\n",
    "\n",
    "# Define a mapping from existing age groups to a single format\n",
    "age_group_mapping = {\n",
    "    '5-14': '5-14',\n",
    "    '15-34': '15-34',\n",
    "    '35-59': '35-59',\n",
    "    '60+': '60+',\n",
    "    'Age not stated': 'Unknown', \n",
    "     'Total':'abc' # Or any other format you prefer for missing data\n",
    "}\n",
    "\n",
    "# Apply the mapping to the \"Age Group\" column\n",
    "data['Age group'] = data['Age group'].map(age_group_mapping)\n",
    "\n",
    "# Convert \"Age Group\" to a categorical data type\n",
    "data['Age group'] = data['Age group'].astype('category')\n",
    "data = data.dropna(subset=['Age group'])\n",
    "# Save the preprocessed data to a new CSV file\n",
    "data.to_csv(\"preprocessed_data.csv\", index=False)\n",
    "\n",
    "# Now the \"Age Group\" column will have the \"Total\" category replaced with \"Unknown\"\n"
   ]
  }
 ],
 "metadata": {
  "kernelspec": {
   "display_name": "Python 3",
   "language": "python",
   "name": "python3"
  },
  "language_info": {
   "codemirror_mode": {
    "name": "ipython",
    "version": 3
   },
   "file_extension": ".py",
   "mimetype": "text/x-python",
   "name": "python",
   "nbconvert_exporter": "python",
   "pygments_lexer": "ipython3",
   "version": "3.11.4"
  }
 },
 "nbformat": 4,
 "nbformat_minor": 2
}
